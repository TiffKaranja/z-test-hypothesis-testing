{
 "cells": [
  {
   "cell_type": "code",
   "execution_count": 8,
   "id": "bab42fdf",
   "metadata": {},
   "outputs": [],
   "source": [
    "\n",
    "\n",
    "from math import sqrt\n",
    "from scipy.stats import norm\n"
   ]
  },
  {
   "cell_type": "markdown",
   "id": "22dc9170",
   "metadata": {},
   "source": [
    "### calculating the z value"
   ]
  },
  {
   "cell_type": "code",
   "execution_count": 5,
   "id": "aa33da4a",
   "metadata": {},
   "outputs": [
    {
     "data": {
      "text/plain": [
       "1.1858541225631423"
      ]
     },
     "execution_count": 5,
     "metadata": {},
     "output_type": "execute_result"
    }
   ],
   "source": [
    "x_bar = 103 # sample mean \n",
    "n = 40 # number of students\n",
    "sigma = 16 # sd of population\n",
    "mu = 100 # Population mean \n",
    "\n",
    "z = (x_bar - mu)/(sigma/sqrt(n))\n",
    "z"
   ]
  },
  {
   "cell_type": "code",
   "execution_count": 9,
   "id": "a8afe3da",
   "metadata": {},
   "outputs": [],
   "source": [
    "import numpy as np\n",
    "import matplotlib.pyplot as plt\n",
    "%matplotlib inline\n"
   ]
  },
  {
   "cell_type": "markdown",
   "id": "9198d464",
   "metadata": {},
   "source": [
    "###  Bottled Water Volume\n",
    "### null hypothesis - the is no significance difference in the 1L water bottles"
   ]
  },
  {
   "cell_type": "markdown",
   "id": "b8cbebad",
   "metadata": {},
   "source": [
    "A company claims their water bottles contain 1 liter. A consumer group suspects the bottles contain less water.\n",
    "Population mean (μ): 1.00 L\n",
    "- σ: 0.05 L\n",
    "- Sample mean (x̄): 0.97 L\n",
    "= Sample size (n): 36\n",
    "- Significance level (α): 0.05\n"
   ]
  },
  {
   "cell_type": "code",
   "execution_count": 57,
   "id": "f14e921d",
   "metadata": {},
   "outputs": [
    {
     "name": "stdout",
     "output_type": "stream",
     "text": [
      "0.00015910859015753168\n",
      "-3.600000000000003\n",
      "reject the null hypothesis which is the water bottles are => 1L  \n"
     ]
    }
   ],
   "source": [
    "###left tailed\n",
    "alternative_hypothesis = \"the consumer group suspect that the water bottles contain < 1L\"\n",
    "null_hypothesis = \"the water bottles are => 1L \"\n",
    "\n",
    "x_bar = 0.97 \n",
    "n = 36\n",
    "sigma =  0.05\n",
    "alpha = 0.05\n",
    "mu = 1.00\n",
    "\n",
    "z = (x_bar - mu)/(sigma/sqrt(n))\n",
    "\n",
    "p_value = norm.cdf(z)\n",
    "print(p_value)\n",
    "print(z)\n",
    "\n",
    "if p_value < alpha:\n",
    "    print(f\"reject the null hypothesis which is {null_hypothesis} \")\n",
    "else:\n",
    "    print(\"we fail to reject the null hypothesis\")"
   ]
  },
  {
   "cell_type": "markdown",
   "id": "8cde45c9",
   "metadata": {},
   "source": [
    "Right-Tailed – Study Time Increase\n",
    "Students used a new study app. The usual average study time is 2.5 hours/day. Researchers think the app increased study time.\n",
    "- μ: 2.5 hrs\n",
    "-σ: 0.4 hrs\n",
    "- x̄: 2.65 hrs\n",
    "- n: 25\n",
    "- α: 0.01\n",
    "- H₀: μ <= 2.5\n",
    "- H₁: μ > 2.5\n"
   ]
  },
  {
   "cell_type": "code",
   "execution_count": 58,
   "id": "1f635094",
   "metadata": {},
   "outputs": [
    {
     "name": "stdout",
     "output_type": "stream",
     "text": [
      "0.030396361765261393\n",
      "1.874999999999999\n",
      "we fail to reject the null hypothesis\n"
     ]
    }
   ],
   "source": [
    "alternative_hypothesis = \"app increased the average study time to more than2.5 hours\"\n",
    "null_hypothesis = \"the app did not increase the study time\"\n",
    "\n",
    "x_bar = 2.65\n",
    "n = 25\n",
    "alpha = 0.01\n",
    "sigma = 0.4\n",
    "mu = 2.5\n",
    "z = (x_bar - mu)/(sigma/sqrt(n))\n",
    "\n",
    "p_value = 1 - norm.cdf(z)\n",
    "print(p_value)\n",
    "print(z)\n",
    "\n",
    "if p_value < alpha:\n",
    "    print(f\"reject the null hypothesis which is {null_hypothesis}\")\n",
    "else:\n",
    "    print(\"we fail to reject the null hypothesis\")\n"
   ]
  },
  {
   "cell_type": "markdown",
   "id": "7bcdb512",
   "metadata": {},
   "source": [
    "Left-Tailed – Battery Life Drop : A brand of batteries claims an average life of 100 hours. A user believes the life has decreased after a redesign.\n",
    "- μ: 100 hrs\n",
    "- σ: 10 hrs\n",
    "- x̄: 96 hrs\n",
    "- n: 64\n",
    "- α: 0.05\n",
    "- H₀: μ >= 100\n",
    "- H₁: μ < 100\n"
   ]
  },
  {
   "cell_type": "code",
   "execution_count": 28,
   "id": "bae93d6a",
   "metadata": {},
   "outputs": [
    {
     "name": "stdout",
     "output_type": "stream",
     "text": [
      "0.0006871379379158471\n",
      "-3.2\n",
      "reject the nully hypothesis which isthe average battery life is 100 hours\n"
     ]
    }
   ],
   "source": [
    "alternative_hypothesis = \"the average battery life is < 100 hours after redesign\"\n",
    "null_hypothesis = \"the average battery life is 100 hours\"\n",
    "\n",
    "x_bar = 96\n",
    "alpha = 0.05\n",
    "mu = 100\n",
    "sigma = 10\n",
    "n = 64\n",
    "z = (x_bar - mu)/(sigma/sqrt(n))\n",
    "\n",
    "p_value = norm.cdf(z)\n",
    "print(p_value)\n",
    "print(z)\n",
    "\n",
    "if p_value < alpha:\n",
    "    print(f\"reject the nully hypothesis which is{null_hypothesis}\")\n",
    "else:\n",
    "    print(\"we fail to reject the null hypothesis\")"
   ]
  },
  {
   "cell_type": "markdown",
   "id": "786ecf6d",
   "metadata": {},
   "source": [
    "Right-Tailed – Sales Increase\n",
    "A store claims a promotional offer increased daily sales.\n",
    "- μ: 200 units/day\n",
    "- σ: 20\n",
    "- x̄: 210\n",
    "- n: 36\n",
    "- α: 0.05\n",
    "- H₀: μ <= 200\n",
    "- H₁: μ > 200\n"
   ]
  },
  {
   "cell_type": "code",
   "execution_count": 60,
   "id": "c3139dc1",
   "metadata": {},
   "outputs": [
    {
     "name": "stdout",
     "output_type": "stream",
     "text": [
      "0.0013498980316301035\n",
      "3.0\n",
      "reject the null hypothesis which is after a promotion the daily sales do not increase\n"
     ]
    }
   ],
   "source": [
    "### right tailed \n",
    "alternative_hypothesis = \"after a promotion the daily sales are > 200 units\"\n",
    "null_hypothesis = \"after a promotion the daily sales do not increase\"\n",
    "\n",
    "x_bar = 210\n",
    "mu = 200\n",
    "n = 36\n",
    "alpha = 0.05\n",
    "sigma = 20\n",
    "\n",
    "z = (x_bar - mu)/(sigma/sqrt(n))\n",
    "p_value =1-norm.cdf(z)\n",
    "print(p_value)\n",
    "print(z)\n",
    "\n",
    "if p_value < alpha:\n",
    "    print(f\"reject the null hypothesis which is {null_hypothesis}\")\n",
    "else:\n",
    "    print(\"we fail to reject the null hypothesis\")\n"
   ]
  },
  {
   "cell_type": "markdown",
   "id": "8c621eb2",
   "metadata": {},
   "source": [
    "Left-Tailed – Exam Scores Decrease\n",
    "A school fears switching to online learning dropped average scores.\n",
    "- μ: 75\n",
    "- σ: 8\n",
    "- x̄: 72\n",
    "- n: 49\n",
    "- α: 0.01\n",
    "- H₀: μ >= 75\n",
    "- H₁: μ < 75\n"
   ]
  },
  {
   "cell_type": "code",
   "execution_count": 27,
   "id": "3af68222",
   "metadata": {},
   "outputs": [
    {
     "name": "stdout",
     "output_type": "stream",
     "text": [
      "0.004332448363012557\n",
      "-2.625\n",
      "reject the null hypothesis which isswitching to online learning did not drop average scores \n"
     ]
    }
   ],
   "source": [
    "alternative_hypothesis = \"switching to online learning dropped average scores\"\n",
    "null_hypothesis = \"switching to online learning did not drop average scores \"\n",
    "\n",
    "x_bar = 72\n",
    "mu = 75\n",
    "sigma =8\n",
    "n = 49\n",
    "alpha = 0.01\n",
    "\n",
    "z = (x_bar - mu)/(sigma/sqrt(n))  \n",
    "p_value = norm.cdf(z)\n",
    "print(p_value)\n",
    "print(z)\n",
    "\n",
    "if p_value < alpha:\n",
    "    print(f\"reject the null hypothesis which is{null_hypothesis}\")\n",
    "else:\n",
    "    print(\"we fail to reject the null hypothesis\")\n",
    "\n"
   ]
  },
  {
   "cell_type": "markdown",
   "id": "44233daf",
   "metadata": {},
   "source": [
    "Right-Tailed – Weight Gain from Diet\n",
    "A nutritionist claims their diet helps people gain weight. Average pre-diet weight is 60kg.\n",
    "- μ: 60 kg\n",
    "- σ: 5\n",
    "- x̄: 62 kg\n",
    "- n: 25\n",
    "- α: 0.05\n",
    "- H₀: μ <= 60\n",
    "- H₁: μ > 60\n"
   ]
  },
  {
   "cell_type": "code",
   "execution_count": 34,
   "id": "8c1f7921",
   "metadata": {},
   "outputs": [
    {
     "name": "stdout",
     "output_type": "stream",
     "text": [
      "0.02275013194817921\n",
      "2.0\n",
      "reject the null hypothesis which is a nutritionist diet does not help peoople gain weight\n"
     ]
    }
   ],
   "source": [
    "alternative_hypothesis = \"a nutritionist diet helps people gain more weight\"\n",
    "null_hypothesis = \"a nutritionist diet does not help peoople gain weight\"\n",
    "\n",
    "x_bar = 62\n",
    "mu = 60\n",
    "sigma = 5\n",
    "alpha = 0.05\n",
    "n = 25\n",
    "\n",
    "z = (x_bar - mu)/(sigma/sqrt(n))\n",
    "\n",
    "p_value = 1-norm.cdf(z)\n",
    "\n",
    "print(p_value)\n",
    "print(z)\n",
    "\n",
    "if p_value < alpha:\n",
    "    print(f\"reject the null hypothesis which is {null_hypothesis}\")\n",
    "else:\n",
    "    print(\"we fail to reject the null hypothesis\")\n"
   ]
  },
  {
   "cell_type": "markdown",
   "id": "f6b18522",
   "metadata": {},
   "source": [
    "Left-Tailed – Internet Speed Drop\n",
    "An ISP promises 50 Mbps. A customer suspects speeds are lower.\n",
    "- μ: 50 Mbps\n",
    "- σ: 4\n",
    "- x̄: 48.5 Mbps\n",
    "- n: 30\n",
    "- α: 0.05"
   ]
  },
  {
   "cell_type": "code",
   "execution_count": null,
   "id": "56187734",
   "metadata": {},
   "outputs": [],
   "source": [
    "### left tailed\n",
    "alternative_hypothesis = \"the ISP speed is lower than 50 mbps\"\n",
    "null_hypothesis = \"the ISP speed is 50 mbps\"\n",
    "\n",
    "x_bar = 48.55\n",
    "mu = 50\n",
    "sigma = 4\n",
    "alpha = 0.05\n",
    "n = 30\n",
    "\n",
    "z = (x_bar - mu)/(sigma/sqrt(n))\n",
    "\n",
    "p_value = norm.cdf(z)\n",
    "\n",
    "print(p_value)\n",
    "print(z)\n",
    "\n",
    "if p_value < alpha:\n",
    "    print(f\"reject the null hypothesis which is {null_hypothesis}\")\n",
    "else:\n",
    "    print(\"we fail to reject the null hypothesis\")\n"
   ]
  },
  {
   "cell_type": "markdown",
   "id": "97954562",
   "metadata": {},
   "source": [
    "Two-Tailed – New Machine Consistency\n",
    "An old machine fills cans with 500 ml of soda. A new one is tested to see if it fills more or less.\n",
    "> - μ: 500 ml\n",
    "> - σ: 10 ml\n",
    "> - x̄: 496 ml\n",
    "> - n: 100\n",
    "> - α: 0.05\n",
    "- H₀: μ = 500\n",
    "- H₁: μ ≠ 500\n"
   ]
  },
  {
   "cell_type": "code",
   "execution_count": null,
   "id": "b9e2d87a",
   "metadata": {},
   "outputs": [
    {
     "name": "stdout",
     "output_type": "stream",
     "text": [
      "3.167124183311986e-05\n",
      "-4.0\n",
      "reject the null hypothesis which is a machine fills cans with 500ml of soda\n"
     ]
    }
   ],
   "source": [
    "alternative_hypothesis =\"the new machine fills either more than or less than 500ml\"\n",
    "null_hypothesis =\"the new machine fills cans with 500ml of soda\"\n",
    "\n",
    "x_bar = 496\n",
    "mu = 500\n",
    "sigma = 10\n",
    "alpha = 0.05\n",
    "n = 100\n",
    "\n",
    "z = (x_bar - mu)/(sigma/sqrt(n))\n",
    "\n",
    "p_value = norm.cdf(z)\n",
    "\n",
    "print(p_value)\n",
    "print(z)\n",
    "\n",
    "if p_value < alpha:\n",
    "    print(f\"reject the null hypothesis which is {null_hypothesis}\")\n",
    "else:\n",
    "    print(\"we fail to reject the null hypothesis\")\n"
   ]
  },
  {
   "cell_type": "markdown",
   "id": "e78e62f5",
   "metadata": {},
   "source": [
    "Two-Tailed – Exam Difficulty\n",
    "Historically, students score 70 on a test. A new version of the test was introduced. Educators want to check if the scores are different.\n",
    "- μ: 70\n",
    "- σ: 6\n",
    "- x̄: 68.2\n",
    "- n: 36\n",
    "- α: 0.01"
   ]
  },
  {
   "cell_type": "code",
   "execution_count": 42,
   "id": "df10ed85",
   "metadata": {},
   "outputs": [
    {
     "name": "stdout",
     "output_type": "stream",
     "text": [
      "0.07186063822585198\n",
      "-1.7999999999999972\n",
      "we fail to reject the null hypothesis\n"
     ]
    }
   ],
   "source": [
    "alternative_hypothesis = \"the average student score is not equal to 70\"\n",
    "null_hypothesis = \"the average student score is 70\"\n",
    "\n",
    "x_bar = 68.2\n",
    "mu = 70\n",
    "sigma = 6\n",
    "alpha = 0.01\n",
    "n = 36\n",
    "\n",
    "z = (x_bar - mu)/(sigma/np.sqrt(n))\n",
    "\n",
    "p_value =2*(1-norm.cdf(abs(z)))\n",
    "\n",
    "print(p_value)\n",
    "print(z)\n",
    "\n",
    "if p_value < alpha:\n",
    "    print(f\"reject the null hypothesis which is {null_hypothesis}\")\n",
    "else:\n",
    "    print(\"we fail to reject the null hypothesis\")\n"
   ]
  },
  {
   "cell_type": "markdown",
   "id": "5464d7ad",
   "metadata": {},
   "source": [
    " A manufacturer claims that the average length of its metal rods is 50 cm. A quality control analyst selects a random sample of 40 rods and finds the sample mean to be 48.7 cm. The population standard deviation is known to be 2.5 cm.\n",
    "Use a two-tailed Z-test at the 0.05 significance level to test whether the average rod length is significantly different from 50 cm.\n"
   ]
  },
  {
   "cell_type": "code",
   "execution_count": 41,
   "id": "18d4faae",
   "metadata": {},
   "outputs": [
    {
     "name": "stdout",
     "output_type": "stream",
     "text": [
      "0.0010062665807906157\n",
      "-3.2887687665751075\n",
      "reject the null hypothesis which is the average lenth of metal rods is 50cm\n"
     ]
    }
   ],
   "source": [
    "alternative_hypothesis = \"the average length of metal rods is not 50cm\"\n",
    "null_hypothesis = \"the average lenth of metal rods is 50cm\"\n",
    "\n",
    "x_bar = 48.7\n",
    "mu = 50\n",
    "sigma = 2.5\n",
    "alpha = 0.05\n",
    "n = 40\n",
    "\n",
    "z = (x_bar - mu)/(sigma/np.sqrt(n))\n",
    "\n",
    "p_value =2*(1-norm.cdf(abs(z)))\n",
    "\n",
    "print(p_value)\n",
    "print(z)\n",
    "\n",
    "if p_value < alpha:\n",
    "    print(f\"reject the null hypothesis which is {null_hypothesis}\")\n",
    "else:\n",
    "    print(\"we fail to reject the null hypothesis\")"
   ]
  },
  {
   "cell_type": "code",
   "execution_count": null,
   "id": "a15a0a3f",
   "metadata": {},
   "outputs": [
    {
     "name": "stdout",
     "output_type": "stream",
     "text": [
      "0.17090352023079758\n",
      "1.3693063937629153\n",
      "we fail to reject the null hypothesis\n"
     ]
    }
   ],
   "source": [
    "### A teacher claims that the average exam score in her class is 75. A student believes it's different. She collects a random sample of 30 exam scores and finds the mean to be 72. The population standard deviation is known to be 8.\n",
    "### Perform a two-tailed Z-test at α = 0.01 to check if the mean is significantly different from 75.\n",
    "\n",
    "alternative_hypothesis = \"that the average exam score is not 75\"\n",
    "null_hypothesis = \"the average exam score is 75\"\n",
    "\n",
    "x_bar = 72\n",
    "mμ = 75\n",
    "sigma = 8\n",
    "n = 30\n",
    "alpha = 0.01\n",
    "\n",
    "z = (x_bar - mu)/(sigma/sqrt(n))\n",
    "p_value = 2 * (1-norm.cdf(abs(z)))\n",
    "\n",
    "print(p_value)\n",
    "print(z)\n",
    "\n",
    "if p_value < alpha:\n",
    "    print(f\"reject the null hypothesis which is {null_hypothesis}\")\n",
    "else:\n",
    "   print(\"we fail to reject the null hypothesis\")\n"
   ]
  },
  {
   "cell_type": "code",
   "execution_count": 50,
   "id": "2df6e8ed",
   "metadata": {},
   "outputs": [
    {
     "name": "stdout",
     "output_type": "stream",
     "text": [
      "0.004677734981047177\n",
      "-2.8284271247461903\n",
      "we reject the null hypothesis which is the average customer spends 200 dollars\n"
     ]
    }
   ],
   "source": [
    "##3 A store claims that their average customer spends $200. A data analyst thinks this has changed. She collects data from 50 customers \n",
    "### and finds an average of $190, with a known population standard deviation of $25.\n",
    "### Test the claim using a two-tailed Z-test at the 5% significance level.\n",
    "\n",
    "alternative_hypothesis = \"the average customer spends less or more than 200 dollars\"\n",
    "null_hypothesis = \"the average customer spends 200 dollars\"\n",
    "x_bar = 190\n",
    "mu = 200\n",
    "alpha = 0.05\n",
    "n = 50\n",
    "sigma = 25\n",
    "z = (x_bar - mu)/(sigma/sqrt(n))\n",
    "\n",
    "p_value = 2 * (1- norm.cdf(abs(z)))\n",
    "\n",
    "print(p_value)\n",
    "print(z)\n",
    "\n",
    "if p_value < alpha:\n",
    "    print(f\"we reject the null hypothesis which is {null_hypothesis}\")\n",
    "else:\n",
    "    print(\"we fail to reject the null hypothesis\")\n",
    "\n",
    "\n"
   ]
  },
  {
   "cell_type": "code",
   "execution_count": 54,
   "id": "9ddc9cd0",
   "metadata": {},
   "outputs": [
    {
     "name": "stdout",
     "output_type": "stream",
     "text": [
      "0.012419330651552318\n",
      "-2.5\n",
      "we reject the null hypothesis which is The cereal boxes weigh 500g\n"
     ]
    }
   ],
   "source": [
    "### A company fills cereal boxes with a target weight of 500g. A random sample of 36 boxes has a mean weight of 495g.\n",
    "### The population standard deviation is 12g.Conduct a two-tailed Z-test at α = 0.05 to determine if the mean weight differs from 500g.\n",
    "\n",
    "alternative_hypothesis = \"The cereal boxes dont weigh 500g\"\n",
    "null_hypothesis = \"The cereal boxes weigh 500g\"\n",
    "x_bar = 495\n",
    "alpha = 0.05\n",
    "mu = 500\n",
    "sigma = 12\n",
    "n = 36\n",
    "z = (x_bar - mu)/(sigma/sqrt(n))\n",
    "\n",
    "p_value = 2 * (1- norm.cdf(abs(z)))\n",
    "print(p_value)\n",
    "print(z)\n",
    "\n",
    "if p_value < alpha:\n",
    "    print(f\"we reject the null hypothesis which is {null_hypothesis}\")\n",
    "else:\n",
    "    print(f\"we fail to reject the null hypothesis which is {alternative_hypothesis}\")\n"
   ]
  }
 ],
 "metadata": {
  "kernelspec": {
   "display_name": "Python 3",
   "language": "python",
   "name": "python3"
  },
  "language_info": {
   "codemirror_mode": {
    "name": "ipython",
    "version": 3
   },
   "file_extension": ".py",
   "mimetype": "text/x-python",
   "name": "python",
   "nbconvert_exporter": "python",
   "pygments_lexer": "ipython3",
   "version": "3.12.7"
  }
 },
 "nbformat": 4,
 "nbformat_minor": 5
}
